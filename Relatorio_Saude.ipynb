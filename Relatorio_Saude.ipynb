{
  "nbformat": 4,
  "nbformat_minor": 0,
  "metadata": {
    "colab": {
      "provenance": [],
      "collapsed_sections": [
        "FjmJWgDIj3WE"
      ]
    },
    "kernelspec": {
      "name": "python3",
      "display_name": "Python 3"
    },
    "language_info": {
      "name": "python"
    }
  },
  "cells": [
    {
      "cell_type": "markdown",
      "source": [
        " 2) Relatório Saúde: Informar nome, data de nascimento e data que tiveram dengue dos cidadãos de XPTO que frequentaram o posto de saúde, menos os cidadãos que não utilizam ônibus."
      ],
      "metadata": {
        "id": "_bQPjxZhNKpm"
      }
    },
    {
      "cell_type": "markdown",
      "source": [
        "# Import das bibliotecas"
      ],
      "metadata": {
        "id": "FjmJWgDIj3WE"
      }
    },
    {
      "cell_type": "code",
      "execution_count": null,
      "metadata": {
        "id": "tgZ7frQ_SNhS"
      },
      "outputs": [],
      "source": [
        "import pandas as pd"
      ]
    },
    {
      "cell_type": "markdown",
      "source": [
        "# Codigo de Tratamento de Dados - Dengue//Alunos"
      ],
      "metadata": {
        "id": "ajNBM-Klj7qP"
      }
    },
    {
      "cell_type": "code",
      "source": [
        "#Import do Arquivo da base de dados de Dengue\n",
        "path_dengue = '/content/drive/MyDrive/Unifor-Ciencia de Dados/Bases de Dados/Base de Dengue3.csv'"
      ],
      "metadata": {
        "id": "xHRS1M_oingo"
      },
      "execution_count": null,
      "outputs": []
    },
    {
      "cell_type": "code",
      "source": [
        "#Import do Arquivo da base de dados de Alunos\n",
        "path_alunos = '/content/drive/MyDrive/Unifor-Ciencia de Dados/Bases de Dados/Base de Alunos3.csv'"
      ],
      "metadata": {
        "id": "Hk_onrV9inYC"
      },
      "execution_count": null,
      "outputs": []
    },
    {
      "cell_type": "code",
      "source": [
        "#Import do Arquivo da base de dados de Mobilidade\n",
        "path_onibus = '/content/drive/MyDrive/Unifor-Ciencia de Dados/Bases de Dados/Base de Onibus3.csv'"
      ],
      "metadata": {
        "id": "JPzFz-9DpfwZ"
      },
      "execution_count": null,
      "outputs": []
    },
    {
      "cell_type": "code",
      "source": [
        "#Lendo o arquivo \"path_dengue\"\n",
        "df_dengue = pd.read_csv(path_dengue, sep=';')"
      ],
      "metadata": {
        "id": "ccH82-U1T00I"
      },
      "execution_count": null,
      "outputs": []
    },
    {
      "cell_type": "code",
      "source": [
        "#Lendo o arquivo \"path_alunos\"\n",
        "df_alunos = pd.read_csv(path_alunos, sep=';')"
      ],
      "metadata": {
        "id": "foNXDhCZUSfO"
      },
      "execution_count": null,
      "outputs": []
    },
    {
      "cell_type": "code",
      "source": [
        "#Lendo o arquivo \"path_onibus\"\n",
        "df_onibus = pd.read_csv(path_onibus, sep=';', encoding='latin1')"
      ],
      "metadata": {
        "id": "X_jZ1CJ9pavt"
      },
      "execution_count": null,
      "outputs": []
    },
    {
      "cell_type": "code",
      "source": [
        "df_alunos"
      ],
      "metadata": {
        "id": "tTc0_rL2uRQA"
      },
      "execution_count": null,
      "outputs": []
    },
    {
      "cell_type": "code",
      "source": [
        "df_dengue"
      ],
      "metadata": {
        "id": "divtgEuTuULJ"
      },
      "execution_count": null,
      "outputs": []
    },
    {
      "cell_type": "code",
      "source": [
        "df_onibus"
      ],
      "metadata": {
        "id": "xP7jL45rvhgG"
      },
      "execution_count": null,
      "outputs": []
    },
    {
      "cell_type": "code",
      "source": [
        "#listagem da coluna 'Nomes' do datafame de onibus\n",
        "lista_nomes_onibus = list(df_onibus['Nome'])"
      ],
      "metadata": {
        "id": "JTdOe6pbopT7"
      },
      "execution_count": null,
      "outputs": []
    },
    {
      "cell_type": "code",
      "source": [
        "#criando um dataframe de pessoas que andaram de onibus sem ter dengue,\n",
        "df_dengue_sem_onibus = df_dengue[~df_dengue['Nome'].isin(lista_nomes_onibus)]"
      ],
      "metadata": {
        "id": "xiTqcjNTo2Sq"
      },
      "execution_count": null,
      "outputs": []
    },
    {
      "cell_type": "code",
      "source": [
        "df_dengue_sem_onibus"
      ],
      "metadata": {
        "id": "6XqUh2hhvG2i"
      },
      "execution_count": null,
      "outputs": []
    },
    {
      "cell_type": "code",
      "source": [
        "\n",
        "df_dengue_sem_onibus.info()"
      ],
      "metadata": {
        "id": "7qqEIvaKrlqS",
        "outputId": "7fc4a9a0-96b4-4ee4-f148-1b2fc7d5b213",
        "colab": {
          "base_uri": "https://localhost:8080/"
        }
      },
      "execution_count": null,
      "outputs": [
        {
          "output_type": "stream",
          "name": "stdout",
          "text": [
            "<class 'pandas.core.frame.DataFrame'>\n",
            "Int64Index: 213 entries, 0 to 236\n",
            "Data columns (total 7 columns):\n",
            " #   Column              Non-Null Count  Dtype \n",
            "---  ------              --------------  ----- \n",
            " 0   ID                  213 non-null    int64 \n",
            " 1   Nome                213 non-null    object\n",
            " 2   Nome da Mae         213 non-null    object\n",
            " 3   Nome do Pai         213 non-null    object\n",
            " 4   Sexo                213 non-null    object\n",
            " 5   Data de Nascimento  213 non-null    object\n",
            " 6   Data da Dengue      213 non-null    object\n",
            "dtypes: int64(1), object(6)\n",
            "memory usage: 13.3+ KB\n"
          ]
        }
      ]
    },
    {
      "cell_type": "code",
      "source": [
        "# # #Export do novo dataframe tratado (Relatorio Saude)\n",
        "# df_dengue_sem_onibus.to_excel('Relatorio_Saude.xlsx')"
      ],
      "metadata": {
        "id": "kJcFBhNQ-T-V"
      },
      "execution_count": null,
      "outputs": []
    }
  ]
}