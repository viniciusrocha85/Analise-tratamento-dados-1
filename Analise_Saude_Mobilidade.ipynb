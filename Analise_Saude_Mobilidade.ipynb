{
  "nbformat": 4,
  "nbformat_minor": 0,
  "metadata": {
    "colab": {
      "provenance": [],
      "collapsed_sections": [
        "FjmJWgDIj3WE"
      ],
      "mount_file_id": "1HaAIQmPwHu_2BX3obCxb1V0T0nB-opCI",
      "authorship_tag": "ABX9TyMi1Ajy14FvsXr3hp1DwykU",
      "include_colab_link": true
    },
    "kernelspec": {
      "name": "python3",
      "display_name": "Python 3"
    },
    "language_info": {
      "name": "python"
    }
  },
  "cells": [
    {
      "cell_type": "markdown",
      "metadata": {
        "id": "view-in-github",
        "colab_type": "text"
      },
      "source": [
        "<a href=\"https://colab.research.google.com/github/viniciusrocha85/XPTO-Analise-Exploratoria-de-Dados/blob/main/Analise_Saude_Mobilidade.ipynb\" target=\"_parent\"><img src=\"https://colab.research.google.com/assets/colab-badge.svg\" alt=\"Open In Colab\"/></a>"
      ]
    },
    {
      "cell_type": "markdown",
      "source": [
        "###Análise da relação que tiveram dengue e andaram ou não de ônibus"
      ],
      "metadata": {
        "id": "T4j6cPVdKZY4"
      }
    },
    {
      "cell_type": "code",
      "execution_count": 2,
      "metadata": {
        "id": "tgZ7frQ_SNhS"
      },
      "outputs": [],
      "source": [
        "import pandas as pd"
      ]
    },
    {
      "cell_type": "code",
      "source": [
        "#Import do Arquivo da base de dados de Dengue\n",
        "path_dengue = '/content/drive/MyDrive/Unifor-Ciencia de Dados/Bases de Dados/Base de Dengue3.csv'"
      ],
      "metadata": {
        "id": "xHRS1M_oingo"
      },
      "execution_count": 3,
      "outputs": []
    },
    {
      "cell_type": "code",
      "source": [
        "#Import do Arquivo da base de dados de Mobilidade\n",
        "path_onibus = '/content/drive/MyDrive/Unifor-Ciencia de Dados/Bases de Dados/Base de Onibus3.csv'"
      ],
      "metadata": {
        "id": "JPzFz-9DpfwZ"
      },
      "execution_count": 4,
      "outputs": []
    },
    {
      "cell_type": "code",
      "source": [
        "#Lendo o arquivo \"path_dengue\"\n",
        "df_dengue = pd.read_csv(path_dengue, sep=';')"
      ],
      "metadata": {
        "id": "ccH82-U1T00I"
      },
      "execution_count": 5,
      "outputs": []
    },
    {
      "cell_type": "code",
      "source": [
        "#Lendo o arquivo \"path_onibus\"\n",
        "df_onibus = pd.read_csv(path_onibus, sep=';', encoding='latin1')"
      ],
      "metadata": {
        "id": "X_jZ1CJ9pavt"
      },
      "execution_count": 6,
      "outputs": []
    },
    {
      "cell_type": "code",
      "source": [
        "df_dengue.info()"
      ],
      "metadata": {
        "id": "divtgEuTuULJ"
      },
      "execution_count": null,
      "outputs": []
    },
    {
      "cell_type": "code",
      "source": [
        "df_onibus.info()"
      ],
      "metadata": {
        "id": "xP7jL45rvhgG"
      },
      "execution_count": null,
      "outputs": []
    },
    {
      "cell_type": "code",
      "source": [
        "#listagem da coluna 'Nomes' do datafame de dengue\n",
        "lista_nomes_dengue = list(df_dengue['Nome'])\n",
        "#criando um dataframe de pessoas que andaram de onibus com dengue,\n",
        "df_dengue_com_onibus = df_onibus[df_onibus['Nome'].isin(lista_nomes_dengue)]\n",
        "df_dengue_com_onibus"
      ],
      "metadata": {
        "id": "5NRJoc10GR7X"
      },
      "execution_count": null,
      "outputs": []
    },
    {
      "cell_type": "code",
      "source": [
        "#listagem da coluna 'Nomes' do datafame de onibus\n",
        "lista_nomes_onibus = list(df_onibus['Nome'])\n",
        "#criando um dataframe de pessoas que andaram de onibus sem ter dengue,\n",
        "df_dengue_sem_onibus = df_dengue[~df_dengue['Nome'].isin(lista_nomes_onibus)]\n",
        "df_dengue_sem_onibus"
      ],
      "metadata": {
        "id": "JTdOe6pbopT7"
      },
      "execution_count": null,
      "outputs": []
    },
    {
      "cell_type": "code",
      "source": [
        "pessoas_com_dengue_sem_onibus = len(df_dengue_sem_onibus)\n",
        "pessoas_com_dengue_com_onibus = len(df_dengue_com_onibus)\n",
        "print(f'a diferença das pessoas que tiveram dengue e não andam de onibus para as que tiveram e andam é: {pessoas_com_dengue_sem_onibus - pessoas_com_dengue_com_onibus}')"
      ],
      "metadata": {
        "colab": {
          "base_uri": "https://localhost:8080/"
        },
        "id": "iYrX7JOhK5Gd",
        "outputId": "76e1cedb-493c-4830-b43e-cc82bc785b78"
      },
      "execution_count": 16,
      "outputs": [
        {
          "output_type": "stream",
          "name": "stdout",
          "text": [
            "a diferença das pessoas que tiveram dengue e não andam de onibus para as que tiveram e andam é: 192\n"
          ]
        }
      ]
    },
    {
      "cell_type": "code",
      "source": [
        "# # #Export do novo dataframe tratado (Relatorio Saude)\n",
        "# df_dengue_sem_onibus.to_excel('Relatorio_Saude.xlsx', index=False)"
      ],
      "metadata": {
        "id": "kJcFBhNQ-T-V"
      },
      "execution_count": 11,
      "outputs": []
    },
    {
      "cell_type": "code",
      "source": [
        "# #Export do novo dataframe tratado (Relatorio Mobilidade)\n",
        "# df_dengue_com_onibus.to_excel('Relatorio_Mobilidade.xlsx',index=False)"
      ],
      "metadata": {
        "id": "K_flAv9JGrWp"
      },
      "execution_count": 12,
      "outputs": []
    }
  ]
}