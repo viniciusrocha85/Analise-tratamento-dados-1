{
  "nbformat": 4,
  "nbformat_minor": 0,
  "metadata": {
    "colab": {
      "provenance": [],
      "collapsed_sections": [
        "FjmJWgDIj3WE"
      ]
    },
    "kernelspec": {
      "name": "python3",
      "display_name": "Python 3"
    },
    "language_info": {
      "name": "python"
    }
  },
  "cells": [
    {
      "cell_type": "markdown",
      "source": [
        "10) Informar nome, data de nascimento, data que tiveram dengue dos cidadãos de XPTO que frequentaram o posto de saúde, mas não frequentaram a escola, nem utilizaram transporte público."
      ],
      "metadata": {
        "id": "Wqub9DWsPDio"
      }
    },
    {
      "cell_type": "markdown",
      "source": [
        "# Import das bibliotecas"
      ],
      "metadata": {
        "id": "FjmJWgDIj3WE"
      }
    },
    {
      "cell_type": "code",
      "execution_count": null,
      "metadata": {
        "id": "tgZ7frQ_SNhS"
      },
      "outputs": [],
      "source": [
        "import pandas as pd"
      ]
    },
    {
      "cell_type": "markdown",
      "source": [
        "# Codigo de Tratamento de Dados - Dengue//Alunos"
      ],
      "metadata": {
        "id": "ajNBM-Klj7qP"
      }
    },
    {
      "cell_type": "code",
      "source": [
        "#Import do Arquivo da base de dados de Dengue\n",
        "path_dengue = '/content/drive/MyDrive/Unifor-Ciencia de Dados/Bases de Dados/Base de Dengue3.csv'"
      ],
      "metadata": {
        "id": "xHRS1M_oingo"
      },
      "execution_count": null,
      "outputs": []
    },
    {
      "cell_type": "code",
      "source": [
        "#Import do Arquivo da base de dados de Alunos\n",
        "path_alunos = '/content/drive/MyDrive/Unifor-Ciencia de Dados/Bases de Dados/Base de Alunos3.csv'"
      ],
      "metadata": {
        "id": "Hk_onrV9inYC"
      },
      "execution_count": null,
      "outputs": []
    },
    {
      "cell_type": "code",
      "source": [
        "#Import do Arquivo da base de dados de Mobilidade\n",
        "path_onibus = '/content/drive/MyDrive/Unifor-Ciencia de Dados/Bases de Dados/Base de Onibus3.csv'"
      ],
      "metadata": {
        "id": "JPzFz-9DpfwZ"
      },
      "execution_count": null,
      "outputs": []
    },
    {
      "cell_type": "code",
      "source": [
        "#Lendo o arquivo \"path_dengue\"\n",
        "df_dengue = pd.read_csv(path_dengue, sep=';')"
      ],
      "metadata": {
        "id": "ccH82-U1T00I"
      },
      "execution_count": null,
      "outputs": []
    },
    {
      "cell_type": "code",
      "source": [
        "#Lendo o arquivo \"path_alunos\"\n",
        "df_alunos = pd.read_csv(path_alunos, sep=';')"
      ],
      "metadata": {
        "id": "foNXDhCZUSfO"
      },
      "execution_count": null,
      "outputs": []
    },
    {
      "cell_type": "code",
      "source": [
        "#Lendo o arquivo \"path_onibus\"\n",
        "df_onibus = pd.read_csv(path_onibus, sep=';', encoding='latin1')"
      ],
      "metadata": {
        "id": "X_jZ1CJ9pavt"
      },
      "execution_count": null,
      "outputs": []
    },
    {
      "cell_type": "code",
      "source": [
        "df_alunos"
      ],
      "metadata": {
        "id": "tTc0_rL2uRQA"
      },
      "execution_count": null,
      "outputs": []
    },
    {
      "cell_type": "code",
      "source": [
        "df_dengue"
      ],
      "metadata": {
        "id": "divtgEuTuULJ"
      },
      "execution_count": null,
      "outputs": []
    },
    {
      "cell_type": "code",
      "source": [
        "df_onibus"
      ],
      "metadata": {
        "id": "xP7jL45rvhgG"
      },
      "execution_count": null,
      "outputs": []
    },
    {
      "cell_type": "code",
      "source": [
        "lista_nomes_alunos = list(df_alunos['Nome'])"
      ],
      "metadata": {
        "id": "H0OJaowSYbUr"
      },
      "execution_count": null,
      "outputs": []
    },
    {
      "cell_type": "code",
      "source": [
        "df_dengue_alunos = df_dengue[~df_dengue['Nome'].isin(lista_nomes_alunos)]"
      ],
      "metadata": {
        "id": "or7Xguf1YtLP"
      },
      "execution_count": null,
      "outputs": []
    },
    {
      "cell_type": "code",
      "source": [
        "lista_nomes_onibus = list(df_onibus['Nome'])"
      ],
      "metadata": {
        "id": "JTdOe6pbopT7"
      },
      "execution_count": null,
      "outputs": []
    },
    {
      "cell_type": "code",
      "source": [
        "df_dengue_onibus_alunos = df_dengue_alunos[~df_dengue_alunos['Nome'].isin(lista_nomes_onibus)]"
      ],
      "metadata": {
        "id": "xiTqcjNTo2Sq"
      },
      "execution_count": null,
      "outputs": []
    },
    {
      "cell_type": "code",
      "source": [
        "df_dengue_onibus_alunos"
      ],
      "metadata": {
        "id": "6X7BCsu3-Pta"
      },
      "execution_count": null,
      "outputs": []
    },
    {
      "cell_type": "code",
      "source": [
        "df_dengue_onibus_alunos.info()"
      ],
      "metadata": {
        "id": "7qqEIvaKrlqS"
      },
      "execution_count": null,
      "outputs": []
    },
    {
      "cell_type": "code",
      "source": [
        "# # #Export do novo dataframe tratado (Relatorio Mobilidade)\n",
        "# df_dengue_onibus_alunos.to_excel('Relatorio_Saude_sem_Mobilidade_e_sem_Educação.xlsx')"
      ],
      "metadata": {
        "id": "kJcFBhNQ-T-V"
      },
      "execution_count": null,
      "outputs": []
    }
  ]
}