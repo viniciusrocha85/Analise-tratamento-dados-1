{
  "nbformat": 4,
  "nbformat_minor": 0,
  "metadata": {
    "colab": {
      "provenance": [],
      "collapsed_sections": [
        "FjmJWgDIj3WE"
      ],
      "mount_file_id": "1HaAIQmPwHu_2BX3obCxb1V0T0nB-opCI",
      "authorship_tag": "ABX9TyPVIc6K062SQi9FRLb/T7qV",
      "include_colab_link": true
    },
    "kernelspec": {
      "name": "python3",
      "display_name": "Python 3"
    },
    "language_info": {
      "name": "python"
    }
  },
  "cells": [
    {
      "cell_type": "markdown",
      "metadata": {
        "id": "view-in-github",
        "colab_type": "text"
      },
      "source": [
        "<a href=\"https://colab.research.google.com/github/viniciusrocha85/XPTO-Analise-Exploratoria-de-Dados/blob/main/Analise-Saude-Mobilidade.ipynb\" target=\"_parent\"><img src=\"https://colab.research.google.com/assets/colab-badge.svg\" alt=\"Open In Colab\"/></a>"
      ]
    },
    {
      "cell_type": "markdown",
      "source": [
        " 2) Relatório Saúde: Informar nome, data de nascimento e data que tiveram dengue dos cidadãos de XPTO que frequentaram o posto de saúde, menos os cidadãos que não utilizam ônibus."
      ],
      "metadata": {
        "id": "_bQPjxZhNKpm"
      }
    },
    {
      "cell_type": "markdown",
      "source": [
        "# Import das bibliotecas"
      ],
      "metadata": {
        "id": "FjmJWgDIj3WE"
      }
    },
    {
      "cell_type": "code",
      "execution_count": null,
      "metadata": {
        "id": "tgZ7frQ_SNhS"
      },
      "outputs": [],
      "source": [
        "import pandas as pd"
      ]
    },
    {
      "cell_type": "markdown",
      "source": [
        "# Codigo de Tratamento de Dados - Dengue//Alunos"
      ],
      "metadata": {
        "id": "ajNBM-Klj7qP"
      }
    },
    {
      "cell_type": "code",
      "source": [
        "#Import do Arquivo da base de dados de Dengue\n",
        "path_dengue = '/content/drive/MyDrive/Unifor-Ciencia de Dados/Bases de Dados/Base de Dengue3.csv'"
      ],
      "metadata": {
        "id": "xHRS1M_oingo"
      },
      "execution_count": null,
      "outputs": []
    },
    {
      "cell_type": "code",
      "source": [
        "#Import do Arquivo da base de dados de Alunos\n",
        "path_alunos = '/content/drive/MyDrive/Unifor-Ciencia de Dados/Bases de Dados/Base de Alunos3.csv'"
      ],
      "metadata": {
        "id": "Hk_onrV9inYC"
      },
      "execution_count": null,
      "outputs": []
    },
    {
      "cell_type": "code",
      "source": [
        "#Import do Arquivo da base de dados de Mobilidade\n",
        "path_onibus = '/content/drive/MyDrive/Unifor-Ciencia de Dados/Bases de Dados/Base de Onibus3.csv'"
      ],
      "metadata": {
        "id": "JPzFz-9DpfwZ"
      },
      "execution_count": null,
      "outputs": []
    },
    {
      "cell_type": "code",
      "source": [
        "#Lendo o arquivo \"path_dengue\"\n",
        "df_dengue = pd.read_csv(path_dengue, sep=';')"
      ],
      "metadata": {
        "id": "ccH82-U1T00I"
      },
      "execution_count": null,
      "outputs": []
    },
    {
      "cell_type": "code",
      "source": [
        "#Lendo o arquivo \"path_alunos\"\n",
        "df_alunos = pd.read_csv(path_alunos, sep=';')"
      ],
      "metadata": {
        "id": "foNXDhCZUSfO"
      },
      "execution_count": null,
      "outputs": []
    },
    {
      "cell_type": "code",
      "source": [
        "#Lendo o arquivo \"path_onibus\"\n",
        "df_onibus = pd.read_csv(path_onibus, sep=';', encoding='latin1')"
      ],
      "metadata": {
        "id": "X_jZ1CJ9pavt"
      },
      "execution_count": null,
      "outputs": []
    },
    {
      "cell_type": "code",
      "source": [
        "df_alunos"
      ],
      "metadata": {
        "id": "tTc0_rL2uRQA"
      },
      "execution_count": null,
      "outputs": []
    },
    {
      "cell_type": "code",
      "source": [
        "df_dengue"
      ],
      "metadata": {
        "id": "divtgEuTuULJ"
      },
      "execution_count": null,
      "outputs": []
    },
    {
      "cell_type": "code",
      "source": [
        "df_onibus"
      ],
      "metadata": {
        "id": "xP7jL45rvhgG"
      },
      "execution_count": null,
      "outputs": []
    },
    {
      "cell_type": "code",
      "source": [
        "#listagem da coluna 'Nomes' do datafame de dengue\n",
        "lista_nomes_dengue = list(df_dengue['Nome'])\n",
        "#criando um dataframe de pessoas que andaram de onibus com dengue,\n",
        "df_dengue_com_onibus = df_onibus[df_onibus['Nome'].isin(lista_nomes_dengue)]\n",
        "df_dengue_com_onibus"
      ],
      "metadata": {
        "id": "5NRJoc10GR7X"
      },
      "execution_count": null,
      "outputs": []
    },
    {
      "cell_type": "code",
      "source": [
        "#listagem da coluna 'Nomes' do datafame de onibus\n",
        "lista_nomes_onibus = list(df_onibus['Nome'])\n",
        "#criando um dataframe de pessoas que andaram de onibus sem ter dengue,\n",
        "df_dengue_sem_onibus = df_dengue[~df_dengue['Nome'].isin(lista_nomes_onibus)]\n",
        "df_dengue_sem_onibus"
      ],
      "metadata": {
        "id": "JTdOe6pbopT7"
      },
      "execution_count": null,
      "outputs": []
    },
    {
      "cell_type": "code",
      "source": [
        "# # #Export do novo dataframe tratado (Relatorio Saude)\n",
        "# df_dengue_sem_onibus.to_excel('Relatorio_Saude.xlsx', index=False)"
      ],
      "metadata": {
        "id": "kJcFBhNQ-T-V"
      },
      "execution_count": null,
      "outputs": []
    },
    {
      "cell_type": "code",
      "source": [
        "# #Export do novo dataframe tratado (Relatorio Mobilidade)\n",
        "# df_dengue_com_onibus.to_excel('Relatorio_Mobilidade.xlsx',index=False)"
      ],
      "metadata": {
        "id": "K_flAv9JGrWp"
      },
      "execution_count": null,
      "outputs": []
    }
  ]
}